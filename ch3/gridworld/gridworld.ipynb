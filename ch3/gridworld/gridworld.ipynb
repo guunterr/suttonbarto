{
 "cells": [
  {
   "cell_type": "code",
   "execution_count": 324,
   "metadata": {},
   "outputs": [],
   "source": [
    "import sympy\n",
    "import itertools\n",
    "import random\n",
    "import numpy as np\n",
    "sympy.init_printing()"
   ]
  },
  {
   "cell_type": "code",
   "execution_count": 325,
   "metadata": {},
   "outputs": [],
   "source": [
    "gamma = 0.9\n",
    "actions = ['u','d','l','r']\n",
    "states = [(x,y) for x in range(5) for y in range(5)]"
   ]
  },
  {
   "cell_type": "code",
   "execution_count": 326,
   "metadata": {},
   "outputs": [],
   "source": [
    "def bellman_optimality_eqs():\n",
    "    vars = sympy.symbols([f\"v{x}{y}\" for x in range(5) for y in range(5)])\n",
    "    eqs = [\n",
    "        sympy.Eq(sympy.Symbol(f\"v{x}{y}\")\n",
    "                ,sympy.Max(*[\n",
    "                        dynamics(x,y,action)[2] + gamma * sympy.Symbol(f\"v{dynamics(x,y,action)[0]}{dynamics(x,y,action)[1]}\")\n",
    "                        for action in actions\n",
    "                ])) \n",
    "        for x in range(5) for y in range(5)\n",
    "    ]\n",
    "    return vars,eqs\n",
    "\n",
    "def dynamics(x,y,action) -> tuple[int, int, float]:\n",
    "    if y == 0 and x == 1:\n",
    "        y = 4\n",
    "        return (x,y, 10)\n",
    "    if y == 0 and x == 3:\n",
    "        y = 2\n",
    "        return (x,y,10)\n",
    "    match action:\n",
    "        case 'u':\n",
    "            if y > 0:\n",
    "                y -= 1\n",
    "                return (x,y,0)\n",
    "            else:\n",
    "                return (x,y,-1)\n",
    "        case 'd':\n",
    "            if y < 4:\n",
    "                y += 1\n",
    "                return (x,y,0)\n",
    "            else:\n",
    "                return (x,y,-1)\n",
    "        case 'l':\n",
    "            if x > 0:\n",
    "                x -= 1\n",
    "                return (x,y,0)\n",
    "            else:\n",
    "                return (x,y,-1)\n",
    "        case 'r':\n",
    "            if x < 4:\n",
    "                x += 1\n",
    "                return (x,y,0)\n",
    "            else:\n",
    "                return (x,y,-1)\n",
    "    \n"
   ]
  },
  {
   "cell_type": "code",
   "execution_count": 327,
   "metadata": {},
   "outputs": [],
   "source": [
    "# Brute force solution - Slow and wrong xdd\n",
    "# 4^25 equations in the naive case :O\n",
    "\n",
    "\n",
    "# vars, eqs = bellman_optimality_eqs()\n",
    "# print(vars,eqs)\n",
    "# solution = sympy.nsolve(eqs[:25], vars[:25], [5 for var in vars[:25]])\n"
   ]
  },
  {
   "cell_type": "code",
   "execution_count": 328,
   "metadata": {},
   "outputs": [
    {
     "name": "stdout",
     "output_type": "stream",
     "text": [
      "{'u': 0.25, 'd': 0.25, 'l': 0.25, 'r': 0.25}\n",
      "['u', 'l', 'l', 'd', 'd', 'r', 'd', 'l', 'u', 'u', 'd', 'l', 'r', 'r', 'r', 'l', 'r', 'd', 'r', 'l']\n"
     ]
    }
   ],
   "source": [
    "class Policy:\n",
    "    def __init__(self):\n",
    "        pass\n",
    "    def policy(self, state) -> dict[str, float]:\n",
    "        raise NotImplementedError\n",
    "    def sample_action(self, state):\n",
    "        #Not thread safe, for what it's worth\n",
    "        policy = self.policy(state)\n",
    "        return str(np.random.choice(list(policy.keys()),1,p=list(policy.values()))[0])\n",
    "    \n",
    "class UniformRandom(Policy):\n",
    "    def __init__(self):\n",
    "        super().__init__()\n",
    "    def policy(self, state):\n",
    "        return {action:0.25 for action in actions}\n",
    "    \n",
    "class Greedy(Policy):\n",
    "    def __init__(self, state_values):\n",
    "        super().__init__()\n",
    "        self.state_values = state_values\n",
    "    def policy(self, state):\n",
    "        action_value_pairs = {action:self.state_values[dynamics(*state, action)[0]][dynamics(*state, action)[1]] for action in actions}\n",
    "        print(action_value_pairs)\n",
    "        selected_action = max(action_value_pairs, key=action_value_pairs.get)\n",
    "        p = {action:0 for action in actions}\n",
    "        p[selected_action] = 1\n",
    "        return p"
   ]
  },
  {
   "cell_type": "code",
   "execution_count": null,
   "metadata": {},
   "outputs": [],
   "source": [
    "def evaluate_policy():\n",
    "    pass"
   ]
  }
 ],
 "metadata": {
  "kernelspec": {
   "display_name": "venv",
   "language": "python",
   "name": "python3"
  },
  "language_info": {
   "codemirror_mode": {
    "name": "ipython",
    "version": 3
   },
   "file_extension": ".py",
   "mimetype": "text/x-python",
   "name": "python",
   "nbconvert_exporter": "python",
   "pygments_lexer": "ipython3",
   "version": "3.10.12"
  }
 },
 "nbformat": 4,
 "nbformat_minor": 2
}
