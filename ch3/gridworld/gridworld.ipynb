{
 "cells": [
  {
   "cell_type": "code",
   "execution_count": 67,
   "metadata": {},
   "outputs": [],
   "source": [
    "import sympy\n",
    "import itertools\n",
    "sympy.init_printing()"
   ]
  },
  {
   "cell_type": "code",
   "execution_count": 68,
   "metadata": {},
   "outputs": [],
   "source": [
    "gamma = 0.9\n",
    "\n",
    "def bellman_optimality_eqs():\n",
    "    vars = sympy.symbols([f\"v{x}{y}\" for x in range(5) for y in range(5)])\n",
    "    eqs = [\n",
    "        sympy.Eq(sympy.Symbol(f\"v{x}{y}\")\n",
    "                ,sympy.Max(*[\n",
    "                        dynamics(x,y,action)[2] + gamma * sympy.Symbol(f\"v{dynamics(x,y,action)[0]}{dynamics(x,y,action)[1]}\")\n",
    "                        for action in ['u','d','l','r']\n",
    "                ])) \n",
    "        for x in range(5) for y in range(5)\n",
    "    ]\n",
    "    return vars,eqs\n",
    "\n",
    "def dynamics(x,y,action) -> tuple[int, int, float]:\n",
    "    if y == 0 and x == 1:\n",
    "        y = 4\n",
    "        return (x,y, 10)\n",
    "    if y == 0 and x == 3:\n",
    "        y = 2\n",
    "        return (x,y,10)\n",
    "    match action:\n",
    "        case 'u':\n",
    "            if y > 0:\n",
    "                y -= 1\n",
    "                return (x,y,0)\n",
    "            else:\n",
    "                return (x,y,-1)\n",
    "        case 'd':\n",
    "            if y < 4:\n",
    "                y += 1\n",
    "                return (x,y,0)\n",
    "            else:\n",
    "                return (x,y,-1)\n",
    "        case 'l':\n",
    "            if x > 0:\n",
    "                x -= 1\n",
    "                return (x,y,0)\n",
    "            else:\n",
    "                return (x,y,-1)\n",
    "        case 'r':\n",
    "            if x < 4:\n",
    "                x += 1\n",
    "                return (x,y,0)\n",
    "            else:\n",
    "                return (x,y,-1)\n",
    "    \n"
   ]
  },
  {
   "cell_type": "code",
   "execution_count": 69,
   "metadata": {},
   "outputs": [
    {
     "name": "stdout",
     "output_type": "stream",
     "text": [
      "[v00, v01, v02, v03, v04, v10, v11, v12, v13, v14, v20, v21, v22, v23, v24, v30, v31, v32, v33, v34, v40, v41, v42, v43, v44] [Eq(v00, Max(0.9*v01, 0.9*v10, 0.9*v00 - 1)), Eq(v01, Max(0.9*v00, 0.9*v02, 0.9*v11, 0.9*v01 - 1)), Eq(v02, Max(0.9*v01, 0.9*v03, 0.9*v12, 0.9*v02 - 1)), Eq(v03, Max(0.9*v02, 0.9*v04, 0.9*v13, 0.9*v03 - 1)), Eq(v04, Max(0.9*v03, 0.9*v14, 0.9*v04 - 1)), Eq(v10, 0.9*v14 + 10), Eq(v11, Max(0.9*v01, 0.9*v10, 0.9*v12, 0.9*v21)), Eq(v12, Max(0.9*v02, 0.9*v11, 0.9*v13, 0.9*v22)), Eq(v13, Max(0.9*v03, 0.9*v12, 0.9*v14, 0.9*v23)), Eq(v14, Max(0.9*v04, 0.9*v13, 0.9*v24, 0.9*v14 - 1)), Eq(v20, Max(0.9*v10, 0.9*v21, 0.9*v30, 0.9*v20 - 1)), Eq(v21, Max(0.9*v11, 0.9*v20, 0.9*v22, 0.9*v31)), Eq(v22, Max(0.9*v12, 0.9*v21, 0.9*v23, 0.9*v32)), Eq(v23, Max(0.9*v13, 0.9*v22, 0.9*v24, 0.9*v33)), Eq(v24, Max(0.9*v14, 0.9*v23, 0.9*v34, 0.9*v24 - 1)), Eq(v30, 0.9*v32 + 10), Eq(v31, Max(0.9*v21, 0.9*v30, 0.9*v32, 0.9*v41)), Eq(v32, Max(0.9*v22, 0.9*v31, 0.9*v33, 0.9*v42)), Eq(v33, Max(0.9*v23, 0.9*v32, 0.9*v34, 0.9*v43)), Eq(v34, Max(0.9*v24, 0.9*v33, 0.9*v44, 0.9*v34 - 1)), Eq(v40, Max(0.9*v30, 0.9*v41, 0.9*v40 - 1)), Eq(v41, Max(0.9*v31, 0.9*v40, 0.9*v42, 0.9*v41 - 1)), Eq(v42, Max(0.9*v32, 0.9*v41, 0.9*v43, 0.9*v42 - 1)), Eq(v43, Max(0.9*v33, 0.9*v42, 0.9*v44, 0.9*v43 - 1)), Eq(v44, Max(0.9*v34, 0.9*v43, 0.9*v44 - 1))]\n"
     ]
    }
   ],
   "source": [
    "# Slow and wrong xdd\n",
    "# vars, eqs = bellman_optimality_eqs()\n",
    "# print(vars,eqs)\n",
    "# solution = sympy.nsolve(eqs[:25], vars[:25], [5 for var in vars[:25]])\n",
    "# print(list(itertools.zip_longest(vars,list(solution))))\n"
   ]
  }
 ],
 "metadata": {
  "kernelspec": {
   "display_name": "venv",
   "language": "python",
   "name": "python3"
  },
  "language_info": {
   "codemirror_mode": {
    "name": "ipython",
    "version": 3
   },
   "file_extension": ".py",
   "mimetype": "text/x-python",
   "name": "python",
   "nbconvert_exporter": "python",
   "pygments_lexer": "ipython3",
   "version": "3.10.12"
  }
 },
 "nbformat": 4,
 "nbformat_minor": 2
}
